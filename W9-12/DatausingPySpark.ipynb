{
 "cells": [
  {
   "cell_type": "code",
   "execution_count": 7,
   "id": "f5173182",
   "metadata": {},
   "outputs": [
    {
     "name": "stdout",
     "output_type": "stream",
     "text": [
      "Requirement already satisfied: faker in /home/yarn4/anaconda3/lib/python3.9/site-packages (19.6.2)\r\n",
      "Requirement already satisfied: python-dateutil>=2.4 in /home/yarn4/anaconda3/lib/python3.9/site-packages (from faker) (2.8.2)\r\n",
      "Requirement already satisfied: six>=1.5 in /home/yarn4/anaconda3/lib/python3.9/site-packages (from python-dateutil>=2.4->faker) (1.16.0)\r\n"
     ]
    }
   ],
   "source": [
    "!pip install faker\n",
    "from faker import Faker\n",
    "import pandas as pd\n",
    "import random\n",
    "\n"
   ]
  },
  {
   "cell_type": "code",
   "execution_count": 8,
   "id": "8c435d72",
   "metadata": {},
   "outputs": [
    {
     "data": {
      "text/html": [
       "<div>\n",
       "<style scoped>\n",
       "    .dataframe tbody tr th:only-of-type {\n",
       "        vertical-align: middle;\n",
       "    }\n",
       "\n",
       "    .dataframe tbody tr th {\n",
       "        vertical-align: top;\n",
       "    }\n",
       "\n",
       "    .dataframe thead th {\n",
       "        text-align: right;\n",
       "    }\n",
       "</style>\n",
       "<table border=\"1\" class=\"dataframe\">\n",
       "  <thead>\n",
       "    <tr style=\"text-align: right;\">\n",
       "      <th></th>\n",
       "      <th>name</th>\n",
       "      <th>age</th>\n",
       "      <th>address</th>\n",
       "      <th>sex</th>\n",
       "    </tr>\n",
       "  </thead>\n",
       "  <tbody>\n",
       "    <tr>\n",
       "      <th>0</th>\n",
       "      <td>Jennifer Gamble</td>\n",
       "      <td>35</td>\n",
       "      <td>38530 Tracy Glens\\nRogersshire, ID 25248</td>\n",
       "      <td>Female</td>\n",
       "    </tr>\n",
       "    <tr>\n",
       "      <th>1</th>\n",
       "      <td>James Hubbard</td>\n",
       "      <td>78</td>\n",
       "      <td>461 Daniel Hills\\nGarciabury, PA 70126</td>\n",
       "      <td>Male</td>\n",
       "    </tr>\n",
       "    <tr>\n",
       "      <th>2</th>\n",
       "      <td>Curtis Smith</td>\n",
       "      <td>58</td>\n",
       "      <td>3539 Moore Isle Apt. 483\\nNew Aarontown, WI 87936</td>\n",
       "      <td>Female</td>\n",
       "    </tr>\n",
       "    <tr>\n",
       "      <th>3</th>\n",
       "      <td>Kevin Fisher</td>\n",
       "      <td>45</td>\n",
       "      <td>0888 Mendez Pines\\nWest Jerryborough, NY 02607</td>\n",
       "      <td>Male</td>\n",
       "    </tr>\n",
       "    <tr>\n",
       "      <th>4</th>\n",
       "      <td>Lori Ramos</td>\n",
       "      <td>68</td>\n",
       "      <td>3612 Larry Lights Apt. 734\\nBrownfort, NM 58955</td>\n",
       "      <td>Male</td>\n",
       "    </tr>\n",
       "  </tbody>\n",
       "</table>\n",
       "</div>"
      ],
      "text/plain": [
       "              name  age                                            address  \\\n",
       "0  Jennifer Gamble   35           38530 Tracy Glens\\nRogersshire, ID 25248   \n",
       "1    James Hubbard   78             461 Daniel Hills\\nGarciabury, PA 70126   \n",
       "2     Curtis Smith   58  3539 Moore Isle Apt. 483\\nNew Aarontown, WI 87936   \n",
       "3     Kevin Fisher   45     0888 Mendez Pines\\nWest Jerryborough, NY 02607   \n",
       "4       Lori Ramos   68    3612 Larry Lights Apt. 734\\nBrownfort, NM 58955   \n",
       "\n",
       "      sex  \n",
       "0  Female  \n",
       "1    Male  \n",
       "2  Female  \n",
       "3    Male  \n",
       "4    Male  "
      ]
     },
     "execution_count": 8,
     "metadata": {},
     "output_type": "execute_result"
    }
   ],
   "source": [
    "class User(object):\n",
    "    f = Faker()\n",
    "    def __init__(self):\n",
    "        self.name   = User.f.name()\n",
    "        self.age           = User.f.pyint(min_value=5, max_value=85)\n",
    "        self.address = User.f.address()\n",
    "        self.sex = random.choice(['Male', 'Female'])\n",
    "        #self.private_email = unidecode.unidecode(\"{}.{}@{}\".format(self.first_name, self.last_name, User.f.free_email_domain()).lower())\n",
    "\n",
    "\n",
    "data = [User().__dict__ for i in range(500)]\n",
    "df = pd.DataFrame(data)\n",
    "\n",
    "df.head()"
   ]
  },
  {
   "cell_type": "code",
   "execution_count": 9,
   "id": "e449a4fc",
   "metadata": {},
   "outputs": [],
   "source": [
    "import pyspark\n",
    "from pyspark.sql import SparkSession\n",
    "# spark = SparkSession.builder.appName('Create Data').getOrCreate()\n",
    "# df1 = spark.createDataFrame(df, schema=schema)"
   ]
  },
  {
   "cell_type": "code",
   "execution_count": 10,
   "id": "9aebec82",
   "metadata": {},
   "outputs": [],
   "source": [
    "spark = SparkSession.builder.appName('Create Random Data').getOrCreate()"
   ]
  },
  {
   "cell_type": "code",
   "execution_count": 17,
   "id": "554109b3",
   "metadata": {},
   "outputs": [
    {
     "name": "stderr",
     "output_type": "stream",
     "text": [
      "                                                                                \r"
     ]
    }
   ],
   "source": [
    "df1 = spark.createDataFrame(df)\n",
    "df1.coalesce(1).write.csv(\"datainput.csv\", mode='overwrite', header = True)"
   ]
  },
  {
   "cell_type": "code",
   "execution_count": 18,
   "id": "9805d5e3",
   "metadata": {},
   "outputs": [
    {
     "name": "stderr",
     "output_type": "stream",
     "text": [
      "                                                                                \r"
     ]
    }
   ],
   "source": [
    "df2 = spark.read.format(\"csv\").option(\"header\", \"true\").load(\"datainput.csv\")\n",
    "\n",
    "df2.write.parquet(\"Data Input\")\n"
   ]
  },
  {
   "cell_type": "code",
   "execution_count": 19,
   "id": "3823921e",
   "metadata": {},
   "outputs": [
    {
     "name": "stdout",
     "output_type": "stream",
     "text": [
      "+-----------------+----------+--------------------+----+\n",
      "|             name|       age|             address| sex|\n",
      "+-----------------+----------+--------------------+----+\n",
      "|  Jennifer Gamble|        35|   38530 Tracy Glens|NULL|\n",
      "|      Rogersshire| ID 25248\"|              Female|NULL|\n",
      "|    James Hubbard|        78|    461 Daniel Hills|NULL|\n",
      "|       Garciabury| PA 70126\"|                Male|NULL|\n",
      "|     Curtis Smith|        58|3539 Moore Isle A...|NULL|\n",
      "|    New Aarontown| WI 87936\"|              Female|NULL|\n",
      "|     Kevin Fisher|        45|   0888 Mendez Pines|NULL|\n",
      "|West Jerryborough| NY 02607\"|                Male|NULL|\n",
      "|       Lori Ramos|        68|3612 Larry Lights...|NULL|\n",
      "|        Brownfort| NM 58955\"|                Male|NULL|\n",
      "|  Matthew Stevens|        12|    430 Gibson Vista|NULL|\n",
      "|  New Denisehaven| IL 35532\"|              Female|NULL|\n",
      "|Christina Hawkins|        40|    0364 Webb Groves|NULL|\n",
      "|  Port Aprilville| OR 82610\"|              Female|NULL|\n",
      "|    Amanda Greene|        83|7420 Rodriguez Vi...|NULL|\n",
      "|   Port Paulhaven| UT 14291\"|              Female|NULL|\n",
      "|     Dana Burgess|        68|123 Morales Squar...|NULL|\n",
      "|         West Joy| OH 21706\"|                Male|NULL|\n",
      "|     Jessica Long|        57|4817 Murphy Via A...|NULL|\n",
      "|    Maddoxchester| WV 21259\"|              Female|NULL|\n",
      "+-----------------+----------+--------------------+----+\n",
      "only showing top 20 rows\n",
      "\n"
     ]
    }
   ],
   "source": [
    "df3 = spark.read.parquet(\"Data Input\")\n",
    "df3.show()"
   ]
  },
  {
   "cell_type": "code",
   "execution_count": 20,
   "id": "4574caec",
   "metadata": {},
   "outputs": [],
   "source": [
    "import pandas as pd\n",
    "import matplotlib.pyplot as plt\n",
    "import numpy as np"
   ]
  },
  {
   "cell_type": "code",
   "execution_count": 21,
   "id": "bd8c595c",
   "metadata": {},
   "outputs": [
    {
     "data": {
      "image/png": "[encoded data removed]",
      "text/plain": [
       "<Figure size 432x288 with 1 Axes>"
      ]
     },
     "metadata": {
      "needs_background": "light"
     },
     "output_type": "display_data"
    }
   ],
   "source": [
    "age_ranges = [0, 10, 20, 30, 40, 50, 60, 70, 80, 90]\n",
    "df['age_range'] = pd.cut(df['age'], bins=age_ranges, right=False, labels=False)\n",
    "\n",
    "# Tạo histogram\n",
    "plt.hist(df['age_range'], bins=len(age_ranges)-1, edgecolor='k', align='left', rwidth=0.8)\n",
    "plt.xticks(range(len(age_ranges)-1), age_ranges[:-1])\n",
    "plt.xlabel('Khoảng Độ Tuổi')\n",
    "plt.ylabel('Số Lượng')\n",
    "plt.title('Phân phối Độ Tuổi của Người Dùng')\n",
    "plt.grid(axis='y', linestyle='--', alpha=0.7)\n",
    "plt.show()"
   ]
  },
  {
   "cell_type": "code",
   "execution_count": 22,
   "id": "6e2e17f7",
   "metadata": {},
   "outputs": [
    {
     "data": {
      "text/plain": [
       "<AxesSubplot:ylabel='sex'>"
      ]
     },
     "execution_count": 22,
     "metadata": {},
     "output_type": "execute_result"
    },
    {
     "data": {
      "image/png": "[encoded data removed]",
      "text/plain": [
       "<Figure size 432x288 with 1 Axes>"
      ]
     },
     "metadata": {},
     "output_type": "display_data"
    }
   ],
   "source": [
    "df['sex'].value_counts().plot.pie()"
   ]
  },
  {
   "cell_type": "code",
   "execution_count": 23,
   "id": "152aa5fe",
   "metadata": {},
   "outputs": [
    {
     "data": {
      "image/png": "[encoded data removed]",
      "text/plain": [
       "<Figure size 432x288 with 1 Axes>"
      ]
     },
     "metadata": {
      "needs_background": "light"
     },
     "output_type": "display_data"
    }
   ],
   "source": [
    "age_ranges = [0, 10, 20, 30, 40, 50, 60, 70, 80, 90]\n",
    "df['age_range'] = pd.cut(df['age'], bins=age_ranges, right=False, labels=age_ranges[:-1])\n",
    "\n",
    "# Tạo DataFrame mới với cột 'age_range' làm chỉ mục\n",
    "age_gender_counts = df.groupby(['age_range', 'sex']).size().unstack(fill_value=0)\n",
    "\n",
    "# Tạo biểu đồ phân chia người dùng theo từng khoảng độ tuổi\n",
    "age_gender_counts.plot(kind='bar', stacked=False, width =  0.75)\n",
    "plt.xlabel('Khoảng Độ Tuổi')\n",
    "plt.ylabel('Số Lượng')\n",
    "plt.title('Biểu đồ Phân Chia Người Dùng theo Độ Tuổi và Giới Tính')\n",
    "plt.xticks(range(len(age_ranges)-1), age_ranges[:-1])\n",
    "plt.legend(title='Giới Tính', labels=['Female', 'Male'])\n",
    "plt.show()"
   ]
  }
 ],
 "metadata": {
  "kernelspec": {
   "display_name": "Python 3 (ipykernel)",
   "language": "python",
   "name": "python3"
  },
  "language_info": {
   "codemirror_mode": {
    "name": "ipython",
    "version": 3
   },
   "file_extension": ".py",
   "mimetype": "text/x-python",
   "name": "python",
   "nbconvert_exporter": "python",
   "pygments_lexer": "ipython3",
   "version": "3.9.7"
  }
 },
 "nbformat": 4,
 "nbformat_minor": 5
}
